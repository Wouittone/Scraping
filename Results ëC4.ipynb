{
 "cells": [
  {
   "cell_type": "code",
   "execution_count": 1,
   "metadata": {},
   "outputs": [],
   "source": [
    "import os\n",
    "from gzip import GzipFile\n",
    "from itertools import product\n",
    "from typing import AnyStr, Optional\n",
    "\n",
    "import orjson as json\n",
    "import pandas as pd\n",
    "from price_parser.parser import parse_price"
   ]
  },
  {
   "cell_type": "markdown",
   "metadata": {},
   "source": [
    "# Parse results into Pandas"
   ]
  },
  {
   "cell_type": "code",
   "execution_count": 2,
   "metadata": {},
   "outputs": [],
   "source": [
    "with GzipFile(\"Results ëC4.json.gz\", \"rb\") as fh:\n",
    "    results = json.loads(fh.read())"
   ]
  },
  {
   "cell_type": "code",
   "execution_count": 3,
   "metadata": {},
   "outputs": [],
   "source": [
    "def parse_car_info(\n",
    "    info: dict[AnyStr, AnyStr], page_number: int, car_number: int\n",
    ") -> Optional[pd.DataFrame]:\n",
    "    if \"Exception\" in info:\n",
    "        return None\n",
    "\n",
    "    dicts = {k: d for k, d in info.items() if type(d) == dict}\n",
    "    lists = {k: d for k, d in info.items() if type(d) != dict}\n",
    "\n",
    "    df = pd.concat(\n",
    "        (pd.DataFrame.from_dict(v, orient=\"index\").T for v in dicts.values()),\n",
    "        keys=[k for k in dicts.keys()],\n",
    "        axis=\"columns\",\n",
    "    )\n",
    "\n",
    "    for k, v in lists.items():\n",
    "        df[k] = v\n",
    "\n",
    "    df[\"PAGE #\"] = page_number\n",
    "    df[\"CAR #\"] = car_number\n",
    "\n",
    "    return df"
   ]
  },
  {
   "cell_type": "code",
   "execution_count": 4,
   "metadata": {},
   "outputs": [],
   "source": [
    "df = (\n",
    "    pd.concat(\n",
    "        filter(\n",
    "            lambda df: df is not None,\n",
    "            (\n",
    "                df := parse_car_info(\n",
    "                    results[p][\"CARS\"][c][\"CHARACTERISTICS\"], p + 1, c + 1\n",
    "                )\n",
    "                for p, c in product(range(39), range(9))\n",
    "            ),\n",
    "        ),\n",
    "        axis=\"index\",\n",
    "    )\n",
    "    .set_index([\"PAGE #\", \"CAR #\"])\n",
    "    .rename_axis(columns=[\"Section\", \"Title\"])\n",
    "    .sort_index()\n",
    ")\n"
   ]
  },
  {
   "cell_type": "code",
   "execution_count": 5,
   "metadata": {},
   "outputs": [],
   "source": [
    "# df.index = df.index.to_flat_index()\n",
    "# df.columns = df.columns.to_flat_index()"
   ]
  },
  {
   "cell_type": "code",
   "execution_count": 6,
   "metadata": {},
   "outputs": [],
   "source": [
    "# df.head()"
   ]
  },
  {
   "cell_type": "markdown",
   "metadata": {},
   "source": [
    "# Clean results"
   ]
  },
  {
   "cell_type": "code",
   "execution_count": 7,
   "metadata": {},
   "outputs": [],
   "source": [
    "idx = pd.IndexSlice"
   ]
  },
  {
   "cell_type": "code",
   "execution_count": 8,
   "metadata": {},
   "outputs": [],
   "source": [
    "cdf = df.drop(\n",
    "    columns=[\n",
    "        \"AUTRES\",\n",
    "        \"CARBURANT / ENERGIE\",\n",
    "        \"CONSOMMATION WLTP\",\n",
    "        \"DÉPOLLUTION / NORME\",\n",
    "        \"DIMENSIONS DU VÉHICULE (EN MM)\",\n",
    "        \"EQUIPEMENTS ADDITIONNELS\",\n",
    "        \"JANTES\",\n",
    "        \"MASSES\",\n",
    "        \"MONTANT PRIX BATTERIE\",\n",
    "        \"MOTORISATION\",\n",
    "        \"PERFORMANCES\",\n",
    "        \"PNEUMATIQUES\",\n",
    "        \"VALIDITÉ DE LA FICHE\",\n",
    "        \"VOLUMES INTÉRIEURS (EN M3 NORME VDA)\",\n",
    "    ],\n",
    "    level=\"Section\",\n",
    ").reindex()"
   ]
  },
  {
   "cell_type": "code",
   "execution_count": 9,
   "metadata": {},
   "outputs": [],
   "source": [
    "duplicated_columns = [c for c in cdf.columns if cdf[c].nunique(dropna=False) == 1]\n",
    "cdf = cdf.drop(columns=duplicated_columns)"
   ]
  },
  {
   "cell_type": "code",
   "execution_count": 10,
   "metadata": {},
   "outputs": [],
   "source": [
    "boolean_columns = [c for c in cdf.columns if c[1]]\n",
    "cdf = cdf.astype({bc: \"boolean\" for bc in boolean_columns})\n",
    "cdf[boolean_columns] = cdf[boolean_columns].fillna(False)\n"
   ]
  },
  {
   "cell_type": "code",
   "execution_count": 11,
   "metadata": {},
   "outputs": [],
   "source": [
    "cdf.loc[:, [\"FINITION\"]] = cdf[\"FINITION\"].astype(\"category\")\n",
    "cdf[\"PRICE\"] = (\n",
    "    cdf[\"PRICE\"].apply(lambda p: parse_price(p).amount_float).astype(\"UInt32\")\n",
    ")\n",
    "cdf[\"VALIDITY\"] = pd.to_datetime(cdf[\"VALIDITY\"])"
   ]
  },
  {
   "cell_type": "markdown",
   "metadata": {},
   "source": [
    "# Filter results"
   ]
  },
  {
   "cell_type": "code",
   "execution_count": 12,
   "metadata": {},
   "outputs": [],
   "source": [
    "features = [v for v in cdf.columns.get_level_values(\"Title\").sort_values() if v]\n",
    "with open(\"Features ëC4.txt\", \"w\") as fh:\n",
    "    for feature in features:\n",
    "        fh.write(feature + os.linesep)"
   ]
  },
  {
   "cell_type": "code",
   "execution_count": 13,
   "metadata": {},
   "outputs": [
    {
     "data": {
      "text/html": [
       "<div>\n",
       "<style scoped>\n",
       "    .dataframe tbody tr th:only-of-type {\n",
       "        vertical-align: middle;\n",
       "    }\n",
       "\n",
       "    .dataframe tbody tr th {\n",
       "        vertical-align: top;\n",
       "    }\n",
       "\n",
       "    .dataframe thead tr th {\n",
       "        text-align: left;\n",
       "    }\n",
       "\n",
       "    .dataframe thead tr:last-of-type th {\n",
       "        text-align: right;\n",
       "    }\n",
       "</style>\n",
       "<table border=\"1\" class=\"dataframe\">\n",
       "  <thead>\n",
       "    <tr>\n",
       "      <th>Section</th>\n",
       "      <th>SYSTÈMES AUDIO ET TÉLÉMATIQUE</th>\n",
       "    </tr>\n",
       "    <tr>\n",
       "      <th>Title</th>\n",
       "      <th>Recharge sans fil pour smartphone</th>\n",
       "    </tr>\n",
       "    <tr>\n",
       "      <th>FINITION</th>\n",
       "      <th></th>\n",
       "    </tr>\n",
       "  </thead>\n",
       "  <tbody>\n",
       "    <tr>\n",
       "      <th>FEEL</th>\n",
       "      <td>0</td>\n",
       "    </tr>\n",
       "    <tr>\n",
       "      <th>FEEL PACK</th>\n",
       "      <td>0</td>\n",
       "    </tr>\n",
       "    <tr>\n",
       "      <th>SHINE</th>\n",
       "      <td>0</td>\n",
       "    </tr>\n",
       "    <tr>\n",
       "      <th>SHINE PACK</th>\n",
       "      <td>131</td>\n",
       "    </tr>\n",
       "  </tbody>\n",
       "</table>\n",
       "</div>"
      ],
      "text/plain": [
       "Section        SYSTÈMES AUDIO ET TÉLÉMATIQUE\n",
       "Title      Recharge sans fil pour smartphone\n",
       "FINITION                                    \n",
       "FEEL                                       0\n",
       "FEEL PACK                                  0\n",
       "SHINE                                      0\n",
       "SHINE PACK                               131"
      ]
     },
     "execution_count": 13,
     "metadata": {},
     "output_type": "execute_result"
    }
   ],
   "source": [
    "pd.concat(\n",
    "    (\n",
    "        cdf.loc[:, idx[\"FINITION\", :]],\n",
    "        cdf.loc[:, idx[:, \"Recharge sans fil pour smartphone\"]],\n",
    "    ),\n",
    "    axis=\"columns\",\n",
    ").groupby(\"FINITION\").sum()\n"
   ]
  },
  {
   "cell_type": "code",
   "execution_count": 14,
   "metadata": {},
   "outputs": [
    {
     "data": {
      "text/html": [
       "<div>\n",
       "<style scoped>\n",
       "    .dataframe tbody tr th:only-of-type {\n",
       "        vertical-align: middle;\n",
       "    }\n",
       "\n",
       "    .dataframe tbody tr th {\n",
       "        vertical-align: top;\n",
       "    }\n",
       "\n",
       "    .dataframe thead tr th {\n",
       "        text-align: left;\n",
       "    }\n",
       "\n",
       "    .dataframe thead tr:last-of-type th {\n",
       "        text-align: right;\n",
       "    }\n",
       "</style>\n",
       "<table border=\"1\" class=\"dataframe\">\n",
       "  <thead>\n",
       "    <tr>\n",
       "      <th>Section</th>\n",
       "      <th>SÉCURITÉ</th>\n",
       "    </tr>\n",
       "    <tr>\n",
       "      <th>Title</th>\n",
       "      <th>Affichage tête haute couleur</th>\n",
       "    </tr>\n",
       "    <tr>\n",
       "      <th>FINITION</th>\n",
       "      <th></th>\n",
       "    </tr>\n",
       "  </thead>\n",
       "  <tbody>\n",
       "    <tr>\n",
       "      <th>FEEL</th>\n",
       "      <td>0</td>\n",
       "    </tr>\n",
       "    <tr>\n",
       "      <th>FEEL PACK</th>\n",
       "      <td>0</td>\n",
       "    </tr>\n",
       "    <tr>\n",
       "      <th>SHINE</th>\n",
       "      <td>132</td>\n",
       "    </tr>\n",
       "    <tr>\n",
       "      <th>SHINE PACK</th>\n",
       "      <td>134</td>\n",
       "    </tr>\n",
       "  </tbody>\n",
       "</table>\n",
       "</div>"
      ],
      "text/plain": [
       "Section                        SÉCURITÉ\n",
       "Title      Affichage tête haute couleur\n",
       "FINITION                               \n",
       "FEEL                                  0\n",
       "FEEL PACK                             0\n",
       "SHINE                               132\n",
       "SHINE PACK                          134"
      ]
     },
     "execution_count": 14,
     "metadata": {},
     "output_type": "execute_result"
    }
   ],
   "source": [
    "pd.concat(\n",
    "    (\n",
    "        cdf.loc[:, idx[\"FINITION\", :]],\n",
    "        cdf.loc[:, idx[:, \"Affichage tête haute couleur\"]],\n",
    "    ),\n",
    "    axis=\"columns\",\n",
    ").groupby(\"FINITION\").sum()\n"
   ]
  },
  {
   "cell_type": "code",
   "execution_count": 15,
   "metadata": {},
   "outputs": [
    {
     "name": "stderr",
     "output_type": "stream",
     "text": [
      "/tmp/ipykernel_4692/1631595051.py:7: PerformanceWarning: dropping on a non-lexsorted multi-index without a level parameter may impact performance.\n",
      "  ).groupby(\"FINITION\").sum()\n"
     ]
    },
    {
     "data": {
      "text/html": [
       "<div>\n",
       "<style scoped>\n",
       "    .dataframe tbody tr th:only-of-type {\n",
       "        vertical-align: middle;\n",
       "    }\n",
       "\n",
       "    .dataframe tbody tr th {\n",
       "        vertical-align: top;\n",
       "    }\n",
       "\n",
       "    .dataframe thead tr th {\n",
       "        text-align: left;\n",
       "    }\n",
       "\n",
       "    .dataframe thead tr:last-of-type th {\n",
       "        text-align: right;\n",
       "    }\n",
       "</style>\n",
       "<table border=\"1\" class=\"dataframe\">\n",
       "  <thead>\n",
       "    <tr>\n",
       "      <th>Section</th>\n",
       "      <th>EQUIPEMENTS</th>\n",
       "    </tr>\n",
       "    <tr>\n",
       "      <th>Title</th>\n",
       "      <th>Système audio numérique (DAB) MP3 6 HP</th>\n",
       "    </tr>\n",
       "    <tr>\n",
       "      <th>FINITION</th>\n",
       "      <th></th>\n",
       "    </tr>\n",
       "  </thead>\n",
       "  <tbody>\n",
       "    <tr>\n",
       "      <th>FEEL</th>\n",
       "      <td>14</td>\n",
       "    </tr>\n",
       "    <tr>\n",
       "      <th>FEEL PACK</th>\n",
       "      <td>69</td>\n",
       "    </tr>\n",
       "    <tr>\n",
       "      <th>SHINE</th>\n",
       "      <td>129</td>\n",
       "    </tr>\n",
       "    <tr>\n",
       "      <th>SHINE PACK</th>\n",
       "      <td>0</td>\n",
       "    </tr>\n",
       "  </tbody>\n",
       "</table>\n",
       "</div>"
      ],
      "text/plain": [
       "Section                               EQUIPEMENTS\n",
       "Title      Système audio numérique (DAB) MP3 6 HP\n",
       "FINITION                                         \n",
       "FEEL                                           14\n",
       "FEEL PACK                                      69\n",
       "SHINE                                         129\n",
       "SHINE PACK                                      0"
      ]
     },
     "execution_count": 15,
     "metadata": {},
     "output_type": "execute_result"
    }
   ],
   "source": [
    "pd.concat(\n",
    "    (\n",
    "        cdf.loc[:, idx[\"FINITION\", :]],\n",
    "        cdf.loc[:, idx[:, \"Système audio numérique (DAB) MP3 6 HP\"]],\n",
    "    ),\n",
    "    axis=\"columns\",\n",
    ").groupby(\"FINITION\").sum()\n"
   ]
  },
  {
   "cell_type": "code",
   "execution_count": 16,
   "metadata": {},
   "outputs": [
    {
     "name": "stderr",
     "output_type": "stream",
     "text": [
      "/tmp/ipykernel_4692/3850005438.py:7: PerformanceWarning: dropping on a non-lexsorted multi-index without a level parameter may impact performance.\n",
      "  ).groupby(\"FINITION\").sum()\n"
     ]
    },
    {
     "data": {
      "text/html": [
       "<div>\n",
       "<style scoped>\n",
       "    .dataframe tbody tr th:only-of-type {\n",
       "        vertical-align: middle;\n",
       "    }\n",
       "\n",
       "    .dataframe tbody tr th {\n",
       "        vertical-align: top;\n",
       "    }\n",
       "\n",
       "    .dataframe thead tr th {\n",
       "        text-align: left;\n",
       "    }\n",
       "\n",
       "    .dataframe thead tr:last-of-type th {\n",
       "        text-align: right;\n",
       "    }\n",
       "</style>\n",
       "<table border=\"1\" class=\"dataframe\">\n",
       "  <thead>\n",
       "    <tr>\n",
       "      <th>Section</th>\n",
       "      <th>CONFORT ET FONCTIONNALITÉ</th>\n",
       "    </tr>\n",
       "    <tr>\n",
       "      <th>Title</th>\n",
       "      <th>Sièges AV réglables hauteur + Lombaire conducteur</th>\n",
       "    </tr>\n",
       "    <tr>\n",
       "      <th>FINITION</th>\n",
       "      <th></th>\n",
       "    </tr>\n",
       "  </thead>\n",
       "  <tbody>\n",
       "    <tr>\n",
       "      <th>FEEL</th>\n",
       "      <td>13</td>\n",
       "    </tr>\n",
       "    <tr>\n",
       "      <th>FEEL PACK</th>\n",
       "      <td>69</td>\n",
       "    </tr>\n",
       "    <tr>\n",
       "      <th>SHINE</th>\n",
       "      <td>125</td>\n",
       "    </tr>\n",
       "    <tr>\n",
       "      <th>SHINE PACK</th>\n",
       "      <td>0</td>\n",
       "    </tr>\n",
       "  </tbody>\n",
       "</table>\n",
       "</div>"
      ],
      "text/plain": [
       "Section                            CONFORT ET FONCTIONNALITÉ\n",
       "Title      Sièges AV réglables hauteur + Lombaire conducteur\n",
       "FINITION                                                    \n",
       "FEEL                                                      13\n",
       "FEEL PACK                                                 69\n",
       "SHINE                                                    125\n",
       "SHINE PACK                                                 0"
      ]
     },
     "execution_count": 16,
     "metadata": {},
     "output_type": "execute_result"
    }
   ],
   "source": [
    "pd.concat(\n",
    "    (\n",
    "        cdf.loc[:, idx[\"FINITION\", :]],\n",
    "        cdf.loc[:, idx[:, \"Sièges AV réglables hauteur + Lombaire conducteur\"]],\n",
    "    ),\n",
    "    axis=\"columns\",\n",
    ").groupby(\"FINITION\").sum()\n"
   ]
  },
  {
   "cell_type": "code",
   "execution_count": 17,
   "metadata": {},
   "outputs": [
    {
     "name": "stderr",
     "output_type": "stream",
     "text": [
      "/tmp/ipykernel_4692/2173765916.py:7: PerformanceWarning: dropping on a non-lexsorted multi-index without a level parameter may impact performance.\n",
      "  ).groupby(\"FINITION\").sum()\n"
     ]
    },
    {
     "data": {
      "text/html": [
       "<div>\n",
       "<style scoped>\n",
       "    .dataframe tbody tr th:only-of-type {\n",
       "        vertical-align: middle;\n",
       "    }\n",
       "\n",
       "    .dataframe tbody tr th {\n",
       "        vertical-align: top;\n",
       "    }\n",
       "\n",
       "    .dataframe thead tr th {\n",
       "        text-align: left;\n",
       "    }\n",
       "\n",
       "    .dataframe thead tr:last-of-type th {\n",
       "        text-align: right;\n",
       "    }\n",
       "</style>\n",
       "<table border=\"1\" class=\"dataframe\">\n",
       "  <thead>\n",
       "    <tr>\n",
       "      <th>Section</th>\n",
       "      <th>CONFORT ET FONCTIONNALITÉ</th>\n",
       "    </tr>\n",
       "    <tr>\n",
       "      <th>Title</th>\n",
       "      <th>Sièges avant chauffants</th>\n",
       "    </tr>\n",
       "    <tr>\n",
       "      <th>FINITION</th>\n",
       "      <th></th>\n",
       "    </tr>\n",
       "  </thead>\n",
       "  <tbody>\n",
       "    <tr>\n",
       "      <th>FEEL</th>\n",
       "      <td>0</td>\n",
       "    </tr>\n",
       "    <tr>\n",
       "      <th>FEEL PACK</th>\n",
       "      <td>0</td>\n",
       "    </tr>\n",
       "    <tr>\n",
       "      <th>SHINE</th>\n",
       "      <td>0</td>\n",
       "    </tr>\n",
       "    <tr>\n",
       "      <th>SHINE PACK</th>\n",
       "      <td>112</td>\n",
       "    </tr>\n",
       "  </tbody>\n",
       "</table>\n",
       "</div>"
      ],
      "text/plain": [
       "Section    CONFORT ET FONCTIONNALITÉ\n",
       "Title        Sièges avant chauffants\n",
       "FINITION                            \n",
       "FEEL                               0\n",
       "FEEL PACK                          0\n",
       "SHINE                              0\n",
       "SHINE PACK                       112"
      ]
     },
     "execution_count": 17,
     "metadata": {},
     "output_type": "execute_result"
    }
   ],
   "source": [
    "pd.concat(\n",
    "    (\n",
    "        cdf.loc[:, idx[\"FINITION\", :]],\n",
    "        cdf.loc[:, idx[:, \"Sièges avant chauffants\"]],\n",
    "    ),\n",
    "    axis=\"columns\",\n",
    ").groupby(\"FINITION\").sum()\n"
   ]
  },
  {
   "cell_type": "code",
   "execution_count": 18,
   "metadata": {},
   "outputs": [
    {
     "name": "stderr",
     "output_type": "stream",
     "text": [
      "/tmp/ipykernel_4692/3978699740.py:7: PerformanceWarning: dropping on a non-lexsorted multi-index without a level parameter may impact performance.\n",
      "  ).groupby(\"FINITION\").sum()\n"
     ]
    },
    {
     "data": {
      "text/html": [
       "<div>\n",
       "<style scoped>\n",
       "    .dataframe tbody tr th:only-of-type {\n",
       "        vertical-align: middle;\n",
       "    }\n",
       "\n",
       "    .dataframe tbody tr th {\n",
       "        vertical-align: top;\n",
       "    }\n",
       "\n",
       "    .dataframe thead tr th {\n",
       "        text-align: left;\n",
       "    }\n",
       "\n",
       "    .dataframe thead tr:last-of-type th {\n",
       "        text-align: right;\n",
       "    }\n",
       "</style>\n",
       "<table border=\"1\" class=\"dataframe\">\n",
       "  <thead>\n",
       "    <tr>\n",
       "      <th>Section</th>\n",
       "      <th>CONFORT ET FONCTIONNALITÉ</th>\n",
       "    </tr>\n",
       "    <tr>\n",
       "      <th>Title</th>\n",
       "      <th>Volant chauffant</th>\n",
       "    </tr>\n",
       "    <tr>\n",
       "      <th>FINITION</th>\n",
       "      <th></th>\n",
       "    </tr>\n",
       "  </thead>\n",
       "  <tbody>\n",
       "    <tr>\n",
       "      <th>FEEL</th>\n",
       "      <td>0</td>\n",
       "    </tr>\n",
       "    <tr>\n",
       "      <th>FEEL PACK</th>\n",
       "      <td>0</td>\n",
       "    </tr>\n",
       "    <tr>\n",
       "      <th>SHINE</th>\n",
       "      <td>132</td>\n",
       "    </tr>\n",
       "    <tr>\n",
       "      <th>SHINE PACK</th>\n",
       "      <td>134</td>\n",
       "    </tr>\n",
       "  </tbody>\n",
       "</table>\n",
       "</div>"
      ],
      "text/plain": [
       "Section    CONFORT ET FONCTIONNALITÉ\n",
       "Title               Volant chauffant\n",
       "FINITION                            \n",
       "FEEL                               0\n",
       "FEEL PACK                          0\n",
       "SHINE                            132\n",
       "SHINE PACK                       134"
      ]
     },
     "execution_count": 18,
     "metadata": {},
     "output_type": "execute_result"
    }
   ],
   "source": [
    "pd.concat(\n",
    "    (\n",
    "        cdf.loc[:, idx[\"FINITION\", :]],\n",
    "        cdf.loc[:, idx[:, \"Volant chauffant\"]],\n",
    "    ),\n",
    "    axis=\"columns\",\n",
    ").groupby(\"FINITION\").sum()\n"
   ]
  }
 ],
 "metadata": {
  "interpreter": {
   "hash": "07f15fee312b0f25aeddc38f592ef9e98564d2d46408b506dd9de3175aa443d9"
  },
  "kernelspec": {
   "display_name": "Python 3.9.12 ('scraping')",
   "language": "python",
   "name": "python3"
  },
  "language_info": {
   "codemirror_mode": {
    "name": "ipython",
    "version": 3
   },
   "file_extension": ".py",
   "mimetype": "text/x-python",
   "name": "python",
   "nbconvert_exporter": "python",
   "pygments_lexer": "ipython3",
   "version": "3.10.4"
  },
  "orig_nbformat": 4
 },
 "nbformat": 4,
 "nbformat_minor": 2
}
